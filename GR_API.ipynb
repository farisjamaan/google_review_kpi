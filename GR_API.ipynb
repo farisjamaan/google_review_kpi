{
  "nbformat": 4,
  "nbformat_minor": 0,
  "metadata": {
    "colab": {
      "provenance": []
    },
    "kernelspec": {
      "name": "python3",
      "display_name": "Python 3"
    },
    "language_info": {
      "name": "python"
    }
  },
  "cells": [
    {
      "cell_type": "code",
      "execution_count": 13,
      "metadata": {
        "colab": {
          "base_uri": "https://localhost:8080/"
        },
        "id": "m15w-0_9FvQP",
        "outputId": "3cee068c-dc4a-470c-ba66-67705254f284"
      },
      "outputs": [
        {
          "output_type": "stream",
          "name": "stdout",
          "text": [
            "Requirement already satisfied: fastapi in /usr/local/lib/python3.10/dist-packages (0.108.0)\n",
            "Requirement already satisfied: uvicorn in /usr/local/lib/python3.10/dist-packages (0.25.0)\n",
            "Requirement already satisfied: pyngrok in /usr/local/lib/python3.10/dist-packages (7.0.3)\n",
            "Requirement already satisfied: googlemaps in /usr/local/lib/python3.10/dist-packages (4.10.0)\n",
            "Requirement already satisfied: pydantic!=1.8,!=1.8.1,!=2.0.0,!=2.0.1,!=2.1.0,<3.0.0,>=1.7.4 in /usr/local/lib/python3.10/dist-packages (from fastapi) (1.10.13)\n",
            "Requirement already satisfied: starlette<0.33.0,>=0.29.0 in /usr/local/lib/python3.10/dist-packages (from fastapi) (0.32.0.post1)\n",
            "Requirement already satisfied: typing-extensions>=4.8.0 in /usr/local/lib/python3.10/dist-packages (from fastapi) (4.9.0)\n",
            "Requirement already satisfied: click>=7.0 in /usr/local/lib/python3.10/dist-packages (from uvicorn) (8.1.7)\n",
            "Requirement already satisfied: h11>=0.8 in /usr/local/lib/python3.10/dist-packages (from uvicorn) (0.14.0)\n",
            "Requirement already satisfied: PyYAML in /usr/local/lib/python3.10/dist-packages (from pyngrok) (6.0.1)\n",
            "Requirement already satisfied: requests<3.0,>=2.20.0 in /usr/local/lib/python3.10/dist-packages (from googlemaps) (2.31.0)\n",
            "Requirement already satisfied: charset-normalizer<4,>=2 in /usr/local/lib/python3.10/dist-packages (from requests<3.0,>=2.20.0->googlemaps) (3.3.2)\n",
            "Requirement already satisfied: idna<4,>=2.5 in /usr/local/lib/python3.10/dist-packages (from requests<3.0,>=2.20.0->googlemaps) (3.6)\n",
            "Requirement already satisfied: urllib3<3,>=1.21.1 in /usr/local/lib/python3.10/dist-packages (from requests<3.0,>=2.20.0->googlemaps) (2.0.7)\n",
            "Requirement already satisfied: certifi>=2017.4.17 in /usr/local/lib/python3.10/dist-packages (from requests<3.0,>=2.20.0->googlemaps) (2023.11.17)\n",
            "Requirement already satisfied: anyio<5,>=3.4.0 in /usr/local/lib/python3.10/dist-packages (from starlette<0.33.0,>=0.29.0->fastapi) (3.7.1)\n",
            "Requirement already satisfied: sniffio>=1.1 in /usr/local/lib/python3.10/dist-packages (from anyio<5,>=3.4.0->starlette<0.33.0,>=0.29.0->fastapi) (1.3.0)\n",
            "Requirement already satisfied: exceptiongroup in /usr/local/lib/python3.10/dist-packages (from anyio<5,>=3.4.0->starlette<0.33.0,>=0.29.0->fastapi) (1.2.0)\n"
          ]
        }
      ],
      "source": [
        "!pip install fastapi uvicorn pyngrok googlemaps"
      ]
    },
    {
      "cell_type": "code",
      "source": [
        "!ngrok config add-authtoken 2ZzAtoj8JtZVi5P0T3dxkZegVDH_413Q4uEX66XPqAS6a49qg"
      ],
      "metadata": {
        "colab": {
          "base_uri": "https://localhost:8080/"
        },
        "id": "AnMRfuPeHY0r",
        "outputId": "fd81a5cd-4fd9-43cb-883c-454e03e7f557"
      },
      "execution_count": 14,
      "outputs": [
        {
          "output_type": "stream",
          "name": "stdout",
          "text": [
            "Authtoken saved to configuration file: /root/.config/ngrok/ngrok.yml\n"
          ]
        }
      ]
    },
    {
      "cell_type": "code",
      "source": [
        "import pandas as pd\n",
        "import numpy as np\n",
        "import datetime\n",
        "from fastapi import FastAPI\n",
        "import nest_asyncio\n",
        "from pyngrok import ngrok\n",
        "import uvicorn\n",
        "import googlemaps\n",
        "import pytz\n",
        "\n",
        "from google_api import google_api_call\n",
        "\n",
        "app = FastAPI()\n",
        "\n",
        "# API Home page\n",
        "@app.get('/')\n",
        "async def root() :\n",
        "  return {\n",
        "      \"Consolidated\": \"Go To '/con'\",\n",
        "      \"Detailed\": \"Go To '/det'\",\n",
        "  }\n",
        "\n",
        "\n",
        "# Consolidated dataset api call\n",
        "@app.get('/con')\n",
        "async def consolidated():\n",
        "  # Temporary data for testing\n",
        "  df = pd.read_csv('data (2).csv')\n",
        "\n",
        "  # This will call the google api function and will create our dataset.\n",
        "  # df = google_api_call('GOOGLE API KEY HERE')\n",
        "\n",
        "  def get_formatted_datetime():\n",
        "    now = datetime.datetime.now(pytz.timezone('Asia/Riyadh'))\n",
        "    formatted_datetime = now.strftime(\"%B %dth, %Y %I:%M %p\")\n",
        "    return formatted_datetime\n",
        "\n",
        "  def get_weight_average(df, brand_name):\n",
        "    subset = df.loc[df['Brand'] == brand_name]\n",
        "    data_points = len(subset)\n",
        "    review_count = subset['Review Count'].astype(float).values\n",
        "    rating = subset['Rating'].values\n",
        "    weighted_sum = np.sum(review_count * rating)\n",
        "    total_count = np.sum(review_count)\n",
        "    weighted_average = weighted_sum / total_count\n",
        "\n",
        "    return f'{weighted_average:.2f}', total_count, data_points\n",
        "\n",
        "  responses = [{\"Date and Time\" : get_formatted_datetime()}]\n",
        "  for key in df['Brand'].unique() :\n",
        "    weighted_average, total_count, data_points = get_weight_average(df, key)\n",
        "    results = {\n",
        "        \"Brand\" : key,\n",
        "        \"Weighted Rating\" : weighted_average,\n",
        "        \"Review Count\" : total_count,\n",
        "        \"Locations\" : data_points,\n",
        "    }\n",
        "    responses.append(results)\n",
        "\n",
        "  return responses\n",
        "\n",
        "\n",
        "# Detailed dataset api call\n",
        "@app.get('/det')\n",
        "async def detailed():\n",
        "  # Temporary data for testing\n",
        "  df = pd.read_csv('data (2).csv')\n",
        "\n",
        "  # This will call the google api function and will create our dataset.\n",
        "  # df = google_api_call('GOOGLE API KEY HERE')\n",
        "\n",
        "  def get_formatted_datetime():\n",
        "    now = datetime.datetime.now(pytz.timezone('Asia/Riyadh'))\n",
        "    formatted_datetime = now.strftime(\"%B %dth, %Y %I:%M %p\")\n",
        "    return formatted_datetime\n",
        "\n",
        "  def row_to_dict(row):\n",
        "    return row.to_dict()\n",
        "\n",
        "  # This fucntion will map the arabic names of cities, districts, and regions to their english counterparts.\n",
        "  def map_func(df, mapping, column):\n",
        "    df[column] = df[column].map(mapping).fillna(df[column])\n",
        "    return df\n",
        "\n",
        "  city_mapping = {'الرياض': 'Riyadh', 'الدمام':'Dammam', 'Al Dammam':'Dammam','جدة':'Jeddah', 'الخبر':'Al Khobar', 'الهفوف':'Al Hofuf', 'خميس مشيط':'Khamis Mushait',\\\n",
        "                  'الظهران':'Dhahran', 'أبها':'Abha', 'سيهات':'Saihat', 'مكة المكرمة':'Makkah', 'تبوك':'Tabuk', 'حائل':'Hail', 'HUBTOWNSEAST':'Hafar Al Batin', 'بريدة':'Buraydah', 'HUB TOWNS EAST':'Hafar Al Batin',\\\n",
        "                  'At Taif':'Taif', 'الطائف':'Taif', 'Al Baten':'Hafar Al Batin', \"الهفوف‎\":'Al Hofuf', 'سيهات‎':'Saihat'}\n",
        "\n",
        "  district_mapping = {'امارة منطقة الرياض':'Riyadh Principality', 'الدمام':'Dammam Principality', 'الخبر':'Al Khobar', 'القطيف':'Al-Qatif', 'امارة منطقة مكة المكرمة':'Makkah Principality',\\\n",
        "                      'خميس مشيط':'Khamis Mushait', 'الاحساء':'Al Ahsa', 'بريدة':'Buraydah Principality', 'امارة منطقة عسير':'Asir Principality','جدة':'Jeddah', 'حفر الباطن':'Hafar Al-Batin',\\\n",
        "                      'امارة منطقة تبوك':'Tabuk Principality'}\n",
        "\n",
        "  region_mapping = {'المنطقة الشرقية':'Eastern Province', 'منطقة الرياض':'Riyadh Province', 'مكة المكرمة':'Makkah Province', 'منطقة عسير':'Aseer Province',\\\n",
        "                    'منطقة تبوك':'Tabuk Province', 'منطقة القصيم':'Al Qassim Province'}\n",
        "\n",
        "  df = map_func(df, city_mapping, 'City')\n",
        "  df = map_func(df, district_mapping, 'District')\n",
        "  df = map_func(df, region_mapping, 'Region')\n",
        "\n",
        "  responses = [{\"Date and Time\" : get_formatted_datetime()}]\n",
        "  result = df.apply(row_to_dict, axis=1)\n",
        "\n",
        "  for i in result :\n",
        "    responses.append(i)\n",
        "\n",
        "  return responses\n",
        "\n",
        "\n",
        "ngrok_tunnel = ngrok.connect(8000)\n",
        "print('Public URL:', ngrok_tunnel.public_url)\n",
        "nest_asyncio.apply()\n",
        "uvicorn.run(app, port=8000)"
      ],
      "metadata": {
        "colab": {
          "base_uri": "https://localhost:8080/"
        },
        "id": "mOZ6ikYeGbwz",
        "outputId": "be0379c9-3df0-4567-eb59-1ce3ad32de93"
      },
      "execution_count": 15,
      "outputs": [
        {
          "output_type": "stream",
          "name": "stderr",
          "text": [
            "INFO:     Started server process [249]\n",
            "INFO:     Waiting for application startup.\n",
            "INFO:     Application startup complete.\n",
            "INFO:     Uvicorn running on http://127.0.0.1:8000 (Press CTRL+C to quit)\n"
          ]
        },
        {
          "output_type": "stream",
          "name": "stdout",
          "text": [
            "Public URL: https://3379-35-237-131-163.ngrok-free.app\n",
            "INFO:     84.22.254.6:0 - \"GET / HTTP/1.1\" 200 OK\n",
            "INFO:     84.22.254.6:0 - \"GET /det HTTP/1.1\" 200 OK\n",
            "INFO:     84.22.254.6:0 - \"GET /con HTTP/1.1\" 200 OK\n"
          ]
        },
        {
          "output_type": "stream",
          "name": "stderr",
          "text": [
            "INFO:     Shutting down\n",
            "INFO:     Waiting for application shutdown.\n",
            "INFO:     Application shutdown complete.\n",
            "INFO:     Finished server process [249]\n"
          ]
        }
      ]
    },
    {
      "cell_type": "code",
      "source": [],
      "metadata": {
        "id": "_F1eKQsQQyv-"
      },
      "execution_count": 15,
      "outputs": []
    },
    {
      "cell_type": "code",
      "source": [],
      "metadata": {
        "id": "sZ_3n017R_Mp"
      },
      "execution_count": 15,
      "outputs": []
    }
  ]
}