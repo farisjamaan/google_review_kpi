{
  "nbformat": 4,
  "nbformat_minor": 0,
  "metadata": {
    "colab": {
      "provenance": []
    },
    "kernelspec": {
      "name": "python3",
      "display_name": "Python 3"
    },
    "language_info": {
      "name": "python"
    }
  },
  "cells": [
    {
      "cell_type": "code",
      "execution_count": null,
      "metadata": {
        "id": "m15w-0_9FvQP"
      },
      "outputs": [],
      "source": [
        "# Installing required libraries\n",
        "!pip install fastapi uvicorn pyngrok googlemaps"
      ]
    },
    {
      "cell_type": "code",
      "source": [
        "# Authentication key for Ngrok (This is only so I can host the API locally)\n",
        "!ngrok config add-authtoken 2ZzAtoj8JtZVi5P0T3dxkZegVDH_413Q4uEX66XPqAS6a49qg"
      ],
      "metadata": {
        "colab": {
          "base_uri": "https://localhost:8080/"
        },
        "id": "AnMRfuPeHY0r",
        "outputId": "830863e8-a043-4ddb-cc6c-e5c0faf89465"
      },
      "execution_count": 2,
      "outputs": [
        {
          "output_type": "stream",
          "name": "stdout",
          "text": [
            "Authtoken saved to configuration file: /root/.config/ngrok/ngrok.yml\n"
          ]
        }
      ]
    },
    {
      "cell_type": "code",
      "source": [
        "import pandas as pd\n",
        "import numpy as np\n",
        "import datetime\n",
        "from fastapi import FastAPI\n",
        "import nest_asyncio\n",
        "from pyngrok import ngrok\n",
        "import uvicorn\n",
        "import googlemaps\n",
        "import pytz\n",
        "\n",
        "from google_api import google_api_call\n",
        "\n",
        "app = FastAPI()\n",
        "\n",
        "# API Home page\n",
        "@app.get('/')\n",
        "async def root() :\n",
        "  return {\n",
        "      \"Consolidated\": \"Go To '/con'\",\n",
        "      \"Detailed\": \"Go To '/det'\",\n",
        "  }\n",
        "\n",
        "\n",
        "# Consolidated dataset api call\n",
        "@app.get('/con')\n",
        "async def consolidated():\n",
        "  # Temporary data for testing\n",
        "  df = pd.read_csv('data.csv')\n",
        "\n",
        "  # This will call the google api function and will create our dataset.\n",
        "  # df = google_api_call('GOOGLE API KEY HERE')\n",
        "\n",
        "  def get_formatted_datetime():\n",
        "    now = datetime.datetime.now(pytz.timezone('Asia/Riyadh'))\n",
        "    formatted_datetime = now.strftime(\"%B %dth, %Y %I:%M %p\")\n",
        "    return formatted_datetime\n",
        "\n",
        "  def get_weight_average(df, brand_name):\n",
        "    subset = df.loc[df['Brand'] == brand_name]\n",
        "    data_points = len(subset)\n",
        "    review_count = subset['Review Count'].astype(float).values\n",
        "    rating = subset['Rating'].values\n",
        "    weighted_sum = np.sum(review_count * rating)\n",
        "    total_count = np.sum(review_count)\n",
        "    weighted_average = weighted_sum / total_count\n",
        "\n",
        "    return f'{weighted_average:.2f}', total_count, data_points\n",
        "\n",
        "  responses = [{\"Date and Time\" : get_formatted_datetime()}]\n",
        "  for key in df['Brand'].unique() :\n",
        "    weighted_average, total_count, data_points = get_weight_average(df, key)\n",
        "    results = {\n",
        "        \"Brand\" : key,\n",
        "        \"Weighted Rating\" : weighted_average,\n",
        "        \"Review Count\" : total_count,\n",
        "        \"Locations\" : data_points,\n",
        "    }\n",
        "    responses.append(results)\n",
        "\n",
        "  return responses\n",
        "\n",
        "\n",
        "# Detailed dataset api call\n",
        "@app.get('/det')\n",
        "async def detailed():\n",
        "  # Temporary data for testing\n",
        "  df = pd.read_csv('data.csv')\n",
        "\n",
        "  # This will call the google api function and will create our dataset.\n",
        "  # df = google_api_call('GOOGLE API KEY HERE')\n",
        "\n",
        "  def get_formatted_datetime():\n",
        "    now = datetime.datetime.now(pytz.timezone('Asia/Riyadh'))\n",
        "    formatted_datetime = now.strftime(\"%B %dth, %Y %I:%M %p\")\n",
        "    return formatted_datetime\n",
        "\n",
        "  def row_to_dict(row):\n",
        "    return row.to_dict()\n",
        "\n",
        "  # This fucntion will map the arabic names of cities, districts, and regions to their english counterparts.\n",
        "  def map_func(df, mapping, column):\n",
        "    df[column] = df[column].map(mapping).fillna(df[column])\n",
        "    return df\n",
        "\n",
        "  city_mapping = {'الرياض': 'Riyadh', 'الدمام':'Dammam', 'Al Dammam':'Dammam','جدة':'Jeddah', 'الخبر':'Al Khobar', 'الهفوف':'Al Hofuf', 'خميس مشيط':'Khamis Mushait',\\\n",
        "                  'الظهران':'Dhahran', 'أبها':'Abha', 'سيهات':'Saihat', 'مكة المكرمة':'Makkah', 'تبوك':'Tabuk', 'حائل':'Hail', 'HUBTOWNSEAST':'Hafar Al Batin', 'بريدة':'Buraydah', 'HUB TOWNS EAST':'Hafar Al Batin',\\\n",
        "                  'At Taif':'Taif', 'الطائف':'Taif', 'Al Baten':'Hafar Al Batin', \"الهفوف‎\":'Al Hofuf', 'سيهات‎':'Saihat'}\n",
        "\n",
        "  district_mapping = {'امارة منطقة الرياض':'Riyadh Principality', 'الدمام':'Dammam Principality', 'الخبر':'Al Khobar', 'القطيف':'Al-Qatif', 'امارة منطقة مكة المكرمة':'Makkah Principality',\\\n",
        "                      'خميس مشيط':'Khamis Mushait', 'الاحساء':'Al Ahsa', 'بريدة':'Buraydah Principality', 'امارة منطقة عسير':'Asir Principality','جدة':'Jeddah', 'حفر الباطن':'Hafar Al-Batin',\\\n",
        "                      'امارة منطقة تبوك':'Tabuk Principality'}\n",
        "\n",
        "  region_mapping = {'المنطقة الشرقية':'Eastern Province', 'منطقة الرياض':'Riyadh Province', 'مكة المكرمة':'Makkah Province', 'منطقة عسير':'Aseer Province',\\\n",
        "                    'منطقة تبوك':'Tabuk Province', 'منطقة القصيم':'Al Qassim Province'}\n",
        "\n",
        "  df = map_func(df, city_mapping, 'City')\n",
        "  df = map_func(df, district_mapping, 'District')\n",
        "  df = map_func(df, region_mapping, 'Region')\n",
        "\n",
        "  responses = [{\"Date and Time\" : get_formatted_datetime()}]\n",
        "  result = df.apply(row_to_dict, axis=1)\n",
        "\n",
        "  for i in result :\n",
        "    responses.append(i)\n",
        "\n",
        "  return responses\n",
        "\n",
        "\n",
        "# This block of code is so I can run the API locally on Google Colab.\n",
        "ngrok_tunnel = ngrok.connect(8000)\n",
        "print('Public URL:', ngrok_tunnel.public_url)\n",
        "nest_asyncio.apply()\n",
        "uvicorn.run(app, port=8000)"
      ],
      "metadata": {
        "colab": {
          "base_uri": "https://localhost:8080/"
        },
        "id": "mOZ6ikYeGbwz",
        "outputId": "754534d0-c28c-4f71-a0a4-f2eaf84630c6"
      },
      "execution_count": 4,
      "outputs": [
        {
          "output_type": "stream",
          "name": "stdout",
          "text": [
            "Public URL: https://2ee5-34-80-146-224.ngrok-free.app\n"
          ]
        },
        {
          "output_type": "stream",
          "name": "stderr",
          "text": [
            "INFO:     Started server process [277]\n",
            "INFO:     Waiting for application startup.\n",
            "INFO:     Application startup complete.\n",
            "INFO:     Uvicorn running on http://127.0.0.1:8000 (Press CTRL+C to quit)\n"
          ]
        },
        {
          "output_type": "stream",
          "name": "stdout",
          "text": [
            "INFO:     84.22.254.6:0 - \"GET /con HTTP/1.1\" 200 OK\n",
            "INFO:     84.22.254.6:0 - \"GET /det HTTP/1.1\" 200 OK\n"
          ]
        },
        {
          "output_type": "stream",
          "name": "stderr",
          "text": [
            "INFO:     Shutting down\n",
            "INFO:     Waiting for application shutdown.\n",
            "INFO:     Application shutdown complete.\n",
            "INFO:     Finished server process [277]\n"
          ]
        }
      ]
    },
    {
      "cell_type": "code",
      "source": [],
      "metadata": {
        "id": "sZ_3n017R_Mp"
      },
      "execution_count": 3,
      "outputs": []
    }
  ]
}